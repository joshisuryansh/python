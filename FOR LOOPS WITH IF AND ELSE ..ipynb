{
 "cells": [
  {
   "cell_type": "markdown",
   "id": "13c87e6b",
   "metadata": {},
   "source": [
    "###### 1 ---- with the help of range get tables of 3,4,5,6,7 in seperate lists.\n",
    "\n",
    "###### 2 ---- in the range(250) get all those integers that are divisible by 2 and 7 and are greater than 50 but less than 225\n",
    "\n",
    "###### 3 ---- the data of names of students of vijAI is given below arrange the data such that it is arrnged to check the roll number of students . take an input from user such that the input given by user matches the roll number of persom for examlple . if they give the input 1 the output will be given as ayush \n",
    "\n",
    "{'gautam','ramesh','suryansh','shreya','sandeep','pushpendra','neeraj','raj','yash','disha','roopali','ayush'}"
   ]
  },
  {
   "cell_type": "markdown",
   "id": "eccf8df6",
   "metadata": {},
   "source": [
    "##### python has 7 types of operators .\n",
    "\n",
    "- arithmetic operators \n",
    "- relational operators (comparison operators <,>,==)\n",
    "- assignment operators (=)\n",
    "- logical operators\n",
    "- membership operators\n",
    "- identity operators \n",
    "- bitwise operators"
   ]
  },
  {
   "cell_type": "code",
   "execution_count": null,
   "id": "7e459bdc",
   "metadata": {},
   "outputs": [],
   "source": [
    "# take three inputs from user and give him/her the tables of those three inputs ."
   ]
  },
  {
   "cell_type": "markdown",
   "id": "fb46baeb",
   "metadata": {},
   "source": [
    "make a program for student to help him/her in their preparation for the exam . if there are 7 topics of the subject and the student takes 1 hour to read 50 pages find the total time which will be taken by student to cover all the topics , and if it exceeds the time of 10 studying days , then tell him he/she can't cover all the topics in the given and if the there are other possibilities then make suitable program fulfilling those conditions as well."
   ]
  },
  {
   "cell_type": "code",
   "execution_count": 24,
   "id": "73e6638d",
   "metadata": {
    "scrolled": true
   },
   "outputs": [
    {
     "name": "stdout",
     "output_type": "stream",
     "text": [
      "enter the total number of subjects :3\n",
      "\n",
      "enter the subject name :physics\n",
      "\n",
      "enter the pages : 990\n",
      "\n",
      "enter the subject name :maths\n",
      "\n",
      "enter the pages : 1000\n",
      "\n",
      "enter the subject name :chemistry\n",
      "\n",
      "enter the pages : 880\n",
      "\n",
      "enter the time which you have for studying in hours  : 240\n",
      "\n",
      "you have to enter the number of pages , that you study in particular hours \n",
      "\n",
      "enter the number of pages to check the rate :50\n",
      "\n",
      "enter the time taken in hours to study 50 pages :1\n",
      "\n",
      "total time required is 57.4 , time availaible is 240\n",
      "you will be left with 182.0 hours and 35.0 minutes and 0.0 seconds\n"
     ]
    }
   ],
   "source": [
    "number_subjects = int(input('enter the total number of subjects :'))\n",
    "dict_subjects = {}\n",
    "for i in range(number_subjects):\n",
    "    subject_name = input('\\nenter the subject name :')\n",
    "    pages = int(input('\\nenter the pages : '))\n",
    "    dict_subjects.update({subject_name:pages})\n",
    "time = int(input('\\nenter the time which you have for studying in hours  : '))\n",
    "print('\\nyou have to enter the number of pages , that you study in particular hours ')\n",
    "pages = int(input('\\nenter the number of pages to check the rate :'))\n",
    "time_ = int(input(f'\\nenter the time taken in hours to study {pages} pages :'))\n",
    "rate = pages/time_\n",
    "total_pages = 0\n",
    "for subject in dict_subjects :\n",
    "    total_pages+= dict_subjects[subject] \n",
    "time_consumed = total_pages/rate\n",
    "if time_consumed > time :\n",
    "    if time//time_consumed==time/time_consumed:\n",
    "        print(f\"\\ntotal time required is {time_consumed} , time availaible is {time}\\nyou don't have sufficient time to study\\nit will take {(time_consumed-time)//1} more hours to cover all topics at rate off\\n {pages}',pages per {time_} hour\\ntotal time required is : {time_consumed }\")\n",
    "    else:\n",
    "        print(f\"\\ntotal time required is {time_consumed} , time availaible is {time}\\nyou don't have sufficient time to study all topics\\nit will take {(time_consumed-time)//1} hours and {(((time_consumed-time)%1)*60)//1} minutes and {(((((time_consumed-time)%1)*60)%1)*60)//1}seconds more to cover all topics at rate off {pages},pages per {time_} hour\")\n",
    "elif time_consumed == time:\n",
    "    print('\\n',time,' will be totally consumed')\n",
    "elif time_consumed < time:\n",
    "    if time_consumed//time == time_consumed/time:\n",
    "        print(f'\\ntotal time required is {time_consumed} , time availaible is {time}\\nyou will be left with {time-time_consumed} hours')\n",
    "    else:\n",
    "        print(f'\\ntotal time required is {time_consumed} , time availaible is {time}\\nyou will be left with {(time-time_consumed)//1} hours and {(((time-time_consumed)%1)*60)//1} minutes and {(((((time_consumed-time)%1)*60)%1)*60)//1} seconds')"
   ]
  },
  {
   "cell_type": "code",
   "execution_count": 3,
   "id": "d3465982",
   "metadata": {},
   "outputs": [
    {
     "data": {
      "text/plain": [
       "12.0"
      ]
     },
     "execution_count": 3,
     "metadata": {},
     "output_type": "execute_result"
    }
   ],
   "source": [
    "a = [200,200,200]\n",
    "rate = 50\n",
    "time = 10\n",
    "sum(a)/rate"
   ]
  },
  {
   "cell_type": "code",
   "execution_count": null,
   "id": "cceea14b",
   "metadata": {},
   "outputs": [],
   "source": [
    "[1,2,3,4,5,6,7,8,9,10]"
   ]
  },
  {
   "cell_type": "markdown",
   "id": "b83c39ec",
   "metadata": {},
   "source": [
    "arithmetic operators\n",
    "relational operators (comparison operators <,>,==)\n",
    "assignment operators (=)\n",
    "logical operators\n",
    "membership operators\n",
    "identity operators\n",
    "bitwise operators"
   ]
  },
  {
   "cell_type": "code",
   "execution_count": 3,
   "id": "1779198e",
   "metadata": {
    "scrolled": true
   },
   "outputs": [
    {
     "data": {
      "text/plain": [
       "1025"
      ]
     },
     "execution_count": 3,
     "metadata": {},
     "output_type": "execute_result"
    }
   ],
   "source": [
    "# the list contains the students present in different sections of class 12th , if each student from each section\n",
    "# will receive 5 notebooks at the start of session find the total number of notebooks that the school will purchase for \n",
    "# each section.\n",
    "\n",
    "\n",
    "list_students = ['a':20,'b':23,'c':33,'d':44,'e':51,'f':12,'g':22]\n"
   ]
  },
  {
   "cell_type": "code",
   "execution_count": null,
   "id": "9c5e1a36-7d59-454a-b757-aa375e6645b3",
   "metadata": {},
   "outputs": [],
   "source": []
  },
  {
   "cell_type": "code",
   "execution_count": 2,
   "id": "6e52997e-79ab-45fd-87d9-3b9c466eb0f9",
   "metadata": {},
   "outputs": [
    {
     "data": {
      "text/plain": [
       "0.0324"
      ]
     },
     "execution_count": 2,
     "metadata": {},
     "output_type": "execute_result"
    }
   ],
   "source": [
    "0.18**2"
   ]
  },
  {
   "cell_type": "code",
   "execution_count": 3,
   "id": "509b4cf5-a7d3-4525-8356-55695151cf3d",
   "metadata": {},
   "outputs": [
    {
     "data": {
      "text/plain": [
       "0.10830000000000001"
      ]
     },
     "execution_count": 3,
     "metadata": {},
     "output_type": "execute_result"
    }
   ],
   "source": [
    "190*0.03*0.019"
   ]
  },
  {
   "cell_type": "code",
   "execution_count": null,
   "id": "d5bff88d-7d52-462d-81d6-ece33363f8c2",
   "metadata": {},
   "outputs": [],
   "source": []
  },
  {
   "cell_type": "code",
   "execution_count": null,
   "id": "d3f9c708",
   "metadata": {},
   "outputs": [],
   "source": [
    "# the number of students in class 6th , 7th , 8th , 9th and 10th are 24,48,33,15,42 repectively.\n",
    "# there is a group activity in which 3 students will make a group and receive the activity box . help the school\n",
    "# to find the total number of activity boxes that will be ordered."
   ]
  },
  {
   "cell_type": "code",
   "execution_count": 3,
   "id": "a9e05f09",
   "metadata": {
    "scrolled": true
   },
   "outputs": [
    {
     "name": "stdout",
     "output_type": "stream",
     "text": [
      "0\n",
      "1\n",
      "2\n"
     ]
    }
   ],
   "source": [
    "for i in range(3):\n",
    "    print(i)"
   ]
  },
  {
   "cell_type": "code",
   "execution_count": null,
   "id": "0dad19cf",
   "metadata": {},
   "outputs": [],
   "source": [
    "for i in range(3):\n",
    "    print(i,'is the number')"
   ]
  },
  {
   "cell_type": "markdown",
   "id": "cbc59cef",
   "metadata": {},
   "source": [
    "##### f string\n",
    "\n",
    "f '   '"
   ]
  },
  {
   "cell_type": "code",
   "execution_count": 4,
   "id": "f17ea821",
   "metadata": {},
   "outputs": [
    {
     "name": "stdout",
     "output_type": "stream",
     "text": [
      "i is the number\n",
      "i is the number\n",
      "i is the number\n"
     ]
    }
   ],
   "source": [
    "for i in range(3):\n",
    "    print('i is the number')"
   ]
  },
  {
   "cell_type": "code",
   "execution_count": 6,
   "id": "7d78edef",
   "metadata": {},
   "outputs": [
    {
     "name": "stdout",
     "output_type": "stream",
     "text": [
      "0 is the number\n",
      "1 is the number\n",
      "2 is the number\n"
     ]
    }
   ],
   "source": [
    "for i in range(3):\n",
    "    print(f'{i} is the number')"
   ]
  },
  {
   "cell_type": "code",
   "execution_count": null,
   "id": "d18c3c6e",
   "metadata": {},
   "outputs": [],
   "source": [
    "for i in range(3):\n",
    "    print(f'{i} is the number')"
   ]
  },
  {
   "cell_type": "code",
   "execution_count": 7,
   "id": "75dd42b0",
   "metadata": {},
   "outputs": [
    {
     "name": "stdout",
     "output_type": "stream",
     "text": [
      "4 * 5 = 20\n"
     ]
    }
   ],
   "source": [
    "num1=4\n",
    "num2=5\n",
    "print(num1,'*',num2,'=',num1*num2)\n",
    "\n",
    "\n",
    "f"
   ]
  },
  {
   "cell_type": "code",
   "execution_count": 12,
   "id": "9fde4883",
   "metadata": {},
   "outputs": [
    {
     "name": "stdout",
     "output_type": "stream",
     "text": [
      "[53, 64, 71]\n"
     ]
    }
   ],
   "source": [
    "a = [20,23,33,44,51,12,22]\n",
    "# make a new list of those numbers which will become more than 50 after adding 20 to them .\n",
    "b=[]\n",
    "for i in a:\n",
    "    if i+20>50:\n",
    "        b.append(i+20)\n",
    "print(b)"
   ]
  },
  {
   "cell_type": "code",
   "execution_count": 1,
   "id": "61cfd733",
   "metadata": {},
   "outputs": [],
   "source": [
    "#  question ----\n",
    "#  in a class there are 12 students who failed the test , the marks of the students who failed were 23,25,26,27,28,\n",
    "#  25,21,22,29,18,19,24 .and the passing marks were 30\n",
    "#  the teacher awarded every students 5 marks as 1 question was wrong in the question paper \n",
    "\n",
    "#  make a program to help the teacher to find how many students failed in the test and to find the students who passed\n",
    "#  after the increment in marks"
   ]
  },
  {
   "cell_type": "code",
   "execution_count": null,
   "id": "6c4b0d30",
   "metadata": {},
   "outputs": [],
   "source": [
    "#    question ----\n",
    "# in a society it is compulsary to give maintenance bill equal to 10 percent of the the rent , make a program for the \n",
    "# secretary of the society , Arun \n",
    "#  so that he can check the total amount gathered from maintenance bill , and help the neighbours in\n",
    "# his society to check their respective bill .\n",
    "# members/rent -> ravi : 20000 , kishan : 10000 , udit : 25000 , prashant : 12000 , purushottam : 15000 , krish : 16000\n",
    "#                 suresh : 7500 , ramesh :1250 , lalit :22000 , hardik :12500 , rahul : 22500 , arjun :19000"
   ]
  },
  {
   "cell_type": "code",
   "execution_count": 23,
   "id": "5bc1d39e",
   "metadata": {},
   "outputs": [
    {
     "name": "stdout",
     "output_type": "stream",
     "text": [
      "enter your name :udit\n",
      "2500.0 is your maintainence bill  udit\n"
     ]
    }
   ],
   "source": [
    "members_dict = {'ravi' : 20000 , 'kishan' : 10000 , 'udit' : 25000 , 'prashant' : 12000 , 'purushottam' : 15000 , 'krish' : 16000 ,'suresh' : 7500 , 'ramesh' :12500 , 'lalit' :22000 , 'hardik' :12500 , 'rahul' : 22500 , 'arjun' :19000}\n",
    "main_total = 0\n",
    "for i in members_dict:\n",
    "    main_total += members_dict[i]*0.10\n",
    "a = input('enter your name :')\n",
    "if a in members_dict:\n",
    "    print(members_dict[a]*0.10 , 'is your maintenance bill ',a)\n",
    "else:\n",
    "    print(a,'is not a member of the society')"
   ]
  },
  {
   "cell_type": "code",
   "execution_count": 21,
   "id": "31394a95",
   "metadata": {
    "scrolled": true
   },
   "outputs": [
    {
     "ename": "SyntaxError",
     "evalue": "f-string: expected 'else' after 'if' expression (1386064494.py, line 4)",
     "output_type": "error",
     "traceback": [
      "\u001b[1;36m  Cell \u001b[1;32mIn[21], line 4\u001b[1;36m\u001b[0m\n\u001b[1;33m    f'*{\"*\" if a==\"*\"  }{\"+\" if a==\"+\" }{if \"-\" a==\"-\" }{\"/\"if a==\"/\"}'\u001b[0m\n\u001b[1;37m     ^\u001b[0m\n\u001b[1;31mSyntaxError\u001b[0m\u001b[1;31m:\u001b[0m f-string: expected 'else' after 'if' expression\n"
     ]
    }
   ],
   "source": [
    "a = input('enter operator :')\n",
    "b=12\n",
    "c=23\n",
    "f'*{\"*\" if a==\"*\"  }{\"+\" if a==\"+\" }{if \"-\" a==\"-\" }{\"/\"if a==\"/\"}'"
   ]
  },
  {
   "cell_type": "code",
   "execution_count": 23,
   "id": "0974805a",
   "metadata": {},
   "outputs": [
    {
     "ename": "SyntaxError",
     "evalue": "f-string: expected 'else' after 'if' expression (3598870499.py, line 4)",
     "output_type": "error",
     "traceback": [
      "\u001b[1;36m  Cell \u001b[1;32mIn[23], line 4\u001b[1;36m\u001b[0m\n\u001b[1;33m    f'*{\"*\" if a==\"*\" \"+\" elif a==\"+\" elif \"-\" a==\"-\" \"/\"elif a==\"/\"}'\u001b[0m\n\u001b[1;37m     ^\u001b[0m\n\u001b[1;31mSyntaxError\u001b[0m\u001b[1;31m:\u001b[0m f-string: expected 'else' after 'if' expression\n"
     ]
    }
   ],
   "source": [
    "a = input('enter operator :')\n",
    "b=12\n",
    "c=23\n",
    "f'*{\"*\" if a==\"*\" \"+\" elif a==\"+\" elif \"-\" a==\"-\" \"/\"elif a==\"/\"}'"
   ]
  },
  {
   "cell_type": "code",
   "execution_count": 9,
   "id": "0c401cba",
   "metadata": {},
   "outputs": [
    {
     "name": "stdout",
     "output_type": "stream",
     "text": [
      "enter 1st number: 24\n",
      "enter 2nd number: 5\n",
      "enter the operator : *\n",
      "24*5=120\n"
     ]
    }
   ],
   "source": [
    "a = int(input('enter 1st number: '))\n",
    "b = int(input('enter 2nd number: '))\n",
    "c= input('enter the operator : ')\n",
    "result = [f'sum of {a} and {b} is :',print(f'{a}+{b}={a+b}') if c == '+' else (' a'),\n",
    "          f'subtraction  of {a} and {b} is :',print(f'{a}-{b}={a-b}') if c == '-' else (' a'),\n",
    "          f'multiplication of {a} and {b} is :',print(f'{a}*{b}={a*b}') if c == '*' else (' a'),\n",
    "          f'division of {a} and {b} is :',print(f'{a}/{b}={a/b}') if c == '/' else (' a')] "
   ]
  },
  {
   "cell_type": "code",
   "execution_count": 1,
   "id": "32cdf8f6",
   "metadata": {},
   "outputs": [
    {
     "data": {
      "text/plain": [
       "'13 is smaller than 134 , and c is 147'"
      ]
     },
     "execution_count": 1,
     "metadata": {},
     "output_type": "execute_result"
    }
   ],
   "source": [
    "a = 13\n",
    "b = 134\n",
    "f'{a} is smaller than {b} , and c is {a+b}'  "
   ]
  },
  {
   "cell_type": "code",
   "execution_count": 30,
   "id": "3c105d5d",
   "metadata": {},
   "outputs": [
    {
     "name": "stdout",
     "output_type": "stream",
     "text": [
      "\n",
      "*\n",
      "**\n",
      "***\n",
      "\n",
      "*\n",
      "**\n",
      "\n",
      "*\n"
     ]
    }
   ],
   "source": [
    "for i in range(3):\n",
    "    for i in range(4-i):\n",
    "        print('*'*i)"
   ]
  },
  {
   "cell_type": "code",
   "execution_count": 47,
   "id": "c52179ff",
   "metadata": {
    "scrolled": true
   },
   "outputs": [
    {
     "name": "stdout",
     "output_type": "stream",
     "text": [
      "enter the number of rows :6\n",
      "0*0\n",
      "1*1\n",
      "*1\n",
      "2*2\n",
      "*2\n",
      "*2\n",
      "3*3\n",
      "*3\n",
      "*3\n",
      "*3\n",
      "4*4\n",
      "*4\n",
      "*4\n",
      "*4\n",
      "*4\n",
      "5*5\n",
      "*5\n",
      "*5\n",
      "*5\n",
      "*5\n",
      "*5\n"
     ]
    }
   ],
   "source": [
    "rows = int(input('enter the number of rows :'))\n",
    "for i in range(rows):\n",
    "    print(i,end='')\n",
    "    for j in range(i + 1):\n",
    "        print(f\"*{i}\")"
   ]
  },
  {
   "cell_type": "code",
   "execution_count": 35,
   "id": "482042b9",
   "metadata": {},
   "outputs": [
    {
     "name": "stdout",
     "output_type": "stream",
     "text": [
      "enter the number of rows :6\n",
      "1\n",
      "* 1 1\n",
      "* 2 * 2 1\n",
      "* 3 * 3 * 3 1\n",
      "* 4 * 4 * 4 * 4 1\n",
      "* 5 * 5 * 5 * 5 * 5 1\n"
     ]
    }
   ],
   "source": [
    "rows = int(input('enter the number of rows :'))\n",
    "for i in range(rows):\n",
    "    for j in range(i):\n",
    "        print(\"*\",i, end=' ')\n",
    "    print(1)\n"
   ]
  },
  {
   "cell_type": "markdown",
   "id": "299e2282",
   "metadata": {},
   "source": [
    "##### python has 7 types of operators .\n",
    "\n",
    "- arithmetic operators \n",
    "- relational operators (comparison operators <,>,==)\n",
    "- assignment operators (=)\n",
    "- logical operators\n",
    "- membership operators\n",
    "- identity operators \n",
    "- bitwise operators"
   ]
  },
  {
   "cell_type": "code",
   "execution_count": 4,
   "id": "6ebea9c2",
   "metadata": {},
   "outputs": [
    {
     "name": "stdout",
     "output_type": "stream",
     "text": [
      " 1 X 1 = 1\n",
      " 1 X 2 = 2\n",
      " 1 X 3 = 3\n",
      " 1 X 4 = 4\n",
      " 1 X 5 = 5\n",
      " 1 X 6 = 6\n",
      " 1 X 7 = 7\n",
      " 1 X 8 = 8\n",
      " 1 X 9 = 9\n",
      " 1 X 10 = 10\n",
      "\n",
      " 2 X 1 = 2\n",
      " 2 X 2 = 4\n",
      " 2 X 3 = 6\n",
      " 2 X 4 = 8\n",
      " 2 X 5 = 10\n",
      " 2 X 6 = 12\n",
      " 2 X 7 = 14\n",
      " 2 X 8 = 16\n",
      " 2 X 9 = 18\n",
      " 2 X 10 = 20\n",
      "\n",
      " 3 X 1 = 3\n",
      " 3 X 2 = 6\n",
      " 3 X 3 = 9\n",
      " 3 X 4 = 12\n",
      " 3 X 5 = 15\n",
      " 3 X 6 = 18\n",
      " 3 X 7 = 21\n",
      " 3 X 8 = 24\n",
      " 3 X 9 = 27\n",
      " 3 X 10 = 30\n",
      "\n",
      " 4 X 1 = 4\n",
      " 4 X 2 = 8\n",
      " 4 X 3 = 12\n",
      " 4 X 4 = 16\n",
      " 4 X 5 = 20\n",
      " 4 X 6 = 24\n",
      " 4 X 7 = 28\n",
      " 4 X 8 = 32\n",
      " 4 X 9 = 36\n",
      " 4 X 10 = 40\n",
      "\n",
      " 5 X 1 = 5\n",
      " 5 X 2 = 10\n",
      " 5 X 3 = 15\n",
      " 5 X 4 = 20\n",
      " 5 X 5 = 25\n",
      " 5 X 6 = 30\n",
      " 5 X 7 = 35\n",
      " 5 X 8 = 40\n",
      " 5 X 9 = 45\n",
      " 5 X 10 = 50\n",
      "\n",
      " 6 X 1 = 6\n",
      " 6 X 2 = 12\n",
      " 6 X 3 = 18\n",
      " 6 X 4 = 24\n",
      " 6 X 5 = 30\n",
      " 6 X 6 = 36\n",
      " 6 X 7 = 42\n",
      " 6 X 8 = 48\n",
      " 6 X 9 = 54\n",
      " 6 X 10 = 60\n",
      "\n",
      " 7 X 1 = 7\n",
      " 7 X 2 = 14\n",
      " 7 X 3 = 21\n",
      " 7 X 4 = 28\n",
      " 7 X 5 = 35\n",
      " 7 X 6 = 42\n",
      " 7 X 7 = 49\n",
      " 7 X 8 = 56\n",
      " 7 X 9 = 63\n",
      " 7 X 10 = 70\n",
      "\n",
      " 8 X 1 = 8\n",
      " 8 X 2 = 16\n",
      " 8 X 3 = 24\n",
      " 8 X 4 = 32\n",
      " 8 X 5 = 40\n",
      " 8 X 6 = 48\n",
      " 8 X 7 = 56\n",
      " 8 X 8 = 64\n",
      " 8 X 9 = 72\n",
      " 8 X 10 = 80\n",
      "\n",
      " 9 X 1 = 9\n",
      " 9 X 2 = 18\n",
      " 9 X 3 = 27\n",
      " 9 X 4 = 36\n",
      " 9 X 5 = 45\n",
      " 9 X 6 = 54\n",
      " 9 X 7 = 63\n",
      " 9 X 8 = 72\n",
      " 9 X 9 = 81\n",
      " 9 X 10 = 90\n",
      "\n",
      " 10 X 1 = 10\n",
      " 10 X 2 = 20\n",
      " 10 X 3 = 30\n",
      " 10 X 4 = 40\n",
      " 10 X 5 = 50\n",
      " 10 X 6 = 60\n",
      " 10 X 7 = 70\n",
      " 10 X 8 = 80\n",
      " 10 X 9 = 90\n",
      " 10 X 10 = 100\n",
      "\n"
     ]
    }
   ],
   "source": [
    "for i in range(1,11):\n",
    "    print(f' {i} X {1} = {i*1}')\n",
    "    print(f' {i} X {2} = {i*2}')\n",
    "    print(f' {i} X {3} = {i*3}')\n",
    "    print(f' {i} X {4} = {i*4}')\n",
    "    print(f' {i} X {5} = {i*5}')\n",
    "    print(f' {i} X {6} = {i*6}')\n",
    "    print(f' {i} X {7} = {i*7}')\n",
    "    print(f' {i} X {8} = {i*8}')\n",
    "    print(f' {i} X {9} = {i*9}')\n",
    "    print(f' {i} X {10} = {i*10}')\n",
    "    print()"
   ]
  },
  {
   "cell_type": "code",
   "execution_count": 3,
   "id": "8ea145c2",
   "metadata": {},
   "outputs": [
    {
     "name": "stdout",
     "output_type": "stream",
     "text": [
      "enter the number of tables that you want :6\n",
      "iX1=0\n",
      "iX2=0\n",
      "iX3=0\n",
      "iX4=0\n",
      "iX5=0\n",
      "iX6=0\n",
      "iX7=0\n",
      "iX8=0\n",
      "iX9=0\n",
      "iX10=0\n",
      "\n",
      "iX1=1\n",
      "iX2=2\n",
      "iX3=3\n",
      "iX4=4\n",
      "iX5=5\n",
      "iX6=6\n",
      "iX7=7\n",
      "iX8=8\n",
      "iX9=9\n",
      "iX10=10\n",
      "\n",
      "iX1=2\n",
      "iX2=4\n",
      "iX3=6\n",
      "iX4=8\n",
      "iX5=10\n",
      "iX6=12\n",
      "iX7=14\n",
      "iX8=16\n",
      "iX9=18\n",
      "iX10=20\n",
      "\n",
      "iX1=3\n",
      "iX2=6\n",
      "iX3=9\n",
      "iX4=12\n",
      "iX5=15\n",
      "iX6=18\n",
      "iX7=21\n",
      "iX8=24\n",
      "iX9=27\n",
      "iX10=30\n",
      "\n",
      "iX1=4\n",
      "iX2=8\n",
      "iX3=12\n",
      "iX4=16\n",
      "iX5=20\n",
      "iX6=24\n",
      "iX7=28\n",
      "iX8=32\n",
      "iX9=36\n",
      "iX10=40\n",
      "\n",
      "iX1=5\n",
      "iX2=10\n",
      "iX3=15\n",
      "iX4=20\n",
      "iX5=25\n",
      "iX6=30\n",
      "iX7=35\n",
      "iX8=40\n",
      "iX9=45\n",
      "iX10=50\n",
      "\n"
     ]
    }
   ],
   "source": [
    "ask=int(input('enter the number of tables that you want :'))\n",
    "for i in range(ask):\n",
    "    for x in range(1,11):\n",
    "        print(f'{i}X{x}={i*x}')\n",
    "    print()"
   ]
  },
  {
   "cell_type": "code",
   "execution_count": 5,
   "id": "617a8002",
   "metadata": {},
   "outputs": [
    {
     "name": "stdout",
     "output_type": "stream",
     "text": [
      "enter the number of tables that you want :4\n",
      "1213X1=0\n",
      "1213X2=0\n",
      "1213X3=0\n",
      "1213X4=0\n",
      "1213X5=0\n",
      "1213X6=0\n",
      "1213X7=0\n",
      "1213X8=0\n",
      "1213X9=0\n",
      "1213X10=0\n",
      "\n",
      "1213X1=1\n",
      "1213X2=2\n",
      "1213X3=3\n",
      "1213X4=4\n",
      "1213X5=5\n",
      "1213X6=6\n",
      "1213X7=7\n",
      "1213X8=8\n",
      "1213X9=9\n",
      "1213X10=10\n",
      "\n",
      "1213X1=2\n",
      "1213X2=4\n",
      "1213X3=6\n",
      "1213X4=8\n",
      "1213X5=10\n",
      "1213X6=12\n",
      "1213X7=14\n",
      "1213X8=16\n",
      "1213X9=18\n",
      "1213X10=20\n",
      "\n",
      "1213X1=3\n",
      "1213X2=6\n",
      "1213X3=9\n",
      "1213X4=12\n",
      "1213X5=15\n",
      "1213X6=18\n",
      "1213X7=21\n",
      "1213X8=24\n",
      "1213X9=27\n",
      "1213X10=30\n",
      "\n"
     ]
    }
   ],
   "source": [
    "ask=int(input('enter the number of tables that you want :'))\n",
    "for i in range(ask):\n",
    "    for x in range(1,11):\n",
    "        print(f'X{x}={i*x}')\n",
    "    print()"
   ]
  },
  {
   "cell_type": "code",
   "execution_count": 6,
   "id": "3433db1e",
   "metadata": {},
   "outputs": [
    {
     "data": {
      "text/plain": [
       "'12 is x and 13 is y'"
      ]
     },
     "execution_count": 6,
     "metadata": {},
     "output_type": "execute_result"
    }
   ],
   "source": [
    "x= 12\n",
    "y= 13\n",
    "f'{x} is x and {y} is y'"
   ]
  },
  {
   "cell_type": "code",
   "execution_count": 7,
   "id": "ea87e2fe",
   "metadata": {},
   "outputs": [
    {
     "data": {
      "text/plain": [
       "dict_values(['a', 'b'])"
      ]
     },
     "execution_count": 7,
     "metadata": {},
     "output_type": "execute_result"
    }
   ],
   "source": [
    "dict1={1:'a',2:'b'}\n",
    "dict1.values()"
   ]
  },
  {
   "cell_type": "code",
   "execution_count": 9,
   "id": "4b889d90",
   "metadata": {},
   "outputs": [
    {
     "name": "stdout",
     "output_type": "stream",
     "text": [
      "enter your name :suryansh\n",
      "enter the date :3\n",
      "dear SURYANSH you can come on the date 3 for your work\n"
     ]
    }
   ],
   "source": [
    "a  = {'mahindra':1,'tcs':5,'NIIT':8}\n",
    "ask1 = input('enter your name :')\n",
    "ask2 = int(input('enter the date :'))\n",
    "if ask2 in a.values():\n",
    "    print(f'dear {ask1.upper()} we are already occupied on that day choose another day')\n",
    "else:\n",
    "    print(f'dear {ask1.upper()} you can come on the date {ask2} for your work')"
   ]
  },
  {
   "cell_type": "code",
   "execution_count": 4,
   "id": "14cd78f0",
   "metadata": {},
   "outputs": [
    {
     "name": "stdout",
     "output_type": "stream",
     "text": [
      "dict_items([('mahindra', 1), ('tcs', 5), ('NIIT', 8)])\n"
     ]
    }
   ],
   "source": [
    "a  = {'mahindra':1,'tcs':5,'NIIT':8}\n",
    "c=a.items()\n",
    "print(c)"
   ]
  },
  {
   "cell_type": "code",
   "execution_count": 8,
   "id": "86683ef9",
   "metadata": {},
   "outputs": [
    {
     "name": "stdout",
     "output_type": "stream",
     "text": [
      "enter the name:1\n",
      "there is a meeting on 1 with the client MAHINDRA . \n"
     ]
    }
   ],
   "source": [
    "a  = {'mahindra':1,'tcs':5,'NIIT':8}\n",
    "ask2 = int(input('enter the name:'))\n",
    "if ask2 in a.values():\n",
    "    for i in a : \n",
    "        if a[i] == ask2:\n",
    "            print(f'there is a meeting on {ask2} with the client {i.upper()} . ')\n",
    "else:\n",
    "    print('you can take the appointment')"
   ]
  },
  {
   "cell_type": "code",
   "execution_count": 9,
   "id": "d48e70a0",
   "metadata": {},
   "outputs": [
    {
     "name": "stdout",
     "output_type": "stream",
     "text": [
      "enter the name:8\n",
      "you can take the appointment\n",
      "you can take the appointment\n",
      "there is a meeting on 8 with the client NIIT . \n"
     ]
    }
   ],
   "source": [
    "a  = {'mahindra':1,'tcs':5,'NIIT':8}\n",
    "ask2 = int(input('enter the name:'))\n",
    "for i in a : \n",
    "    if a[i] == ask2:\n",
    "        print(f'there is a meeting on {ask2} with the client {i.upper()} . ')\n",
    "    else:\n",
    "        print('you can take the appointment')"
   ]
  },
  {
   "cell_type": "code",
   "execution_count": 10,
   "id": "7899b146",
   "metadata": {},
   "outputs": [
    {
     "name": "stdout",
     "output_type": "stream",
     "text": [
      "enter the name:9\n",
      "appointment with mahindra\n",
      "no appointment\n",
      "appointment with tcs\n",
      "no appointment\n",
      "appointment with NIIT\n"
     ]
    }
   ],
   "source": [
    "a  = {'mahindra':1,'tcs':5,'NIIT':8}\n",
    "ask2 = int(input('enter the name:'))\n",
    "for i in a : \n",
    "    if a[i]==1:\n",
    "        print('appointment with',i)\n",
    "    if a[i]==5:\n",
    "        print('appointment with',i)\n",
    "    if a[i]==8:\n",
    "        print('appointment with',i)\n",
    "    else:\n",
    "        print('no appointment')"
   ]
  },
  {
   "cell_type": "markdown",
   "id": "bc5108c5",
   "metadata": {},
   "source": [
    "### shreya works as a freelancer , she gets clients on daily basis . The clients tell shreya the date of appointment before they fix an online meeting .she only fixes the meeting when the time of appointement chosen by the client does not clashes with time of other client , make a program to help shreya such that the program tells shreya whether she has time for appointment on a particular day of december or not .\n",
    "\n",
    "abc company on 13\n",
    "shree furnitures on 3\n",
    "lara company on 8 \n",
    "ai retailers on 9 \n",
    "uora silks on 4\n",
    "lara company on 23 \n",
    "bhuvi textiles on 5  \n",
    "lara clothings on 6 \n",
    "ba company on 19  \n",
    "the og company on 18  \n",
    "prem constructors 21  \n",
    "d textiles on 22 \n",
    "x company on 17\n",
    "\n",
    "\n",
    "all dates are of december"
   ]
  },
  {
   "cell_type": "markdown",
   "id": "80ebba2a",
   "metadata": {},
   "source": [
    "- FIND THE CUBE OF FIRST 30 NATURAL NUMBERS\n",
    "- here is the data of 10 people who applied for their driving license\n",
    "NAME       AGE      NATIONALITY\n",
    "\n",
    "ravi         19      indian\n",
    "\n",
    "ravish      18     indian\n",
    "\n",
    "ramesh    22      indian\n",
    "\n",
    "rajesh      17      indian\n",
    "\n",
    "arun        14      indian\n",
    "\n",
    "arjun       13      indian\n",
    "\n",
    "udit         24      indian\n",
    "\n",
    "deep       61      indian\n",
    "\n",
    "pranjali   24      indian\n",
    "\n",
    "kritika     22      indian\n",
    "- a person will only be eligible for applying a license when he she is above 18 and is a ctizen of India , make program to help the supersviser pranjal so that he can get the data of all those citizens who are eligible and make a program to help the applicant to check whether he she is eligible or not"
   ]
  },
  {
   "cell_type": "code",
   "execution_count": null,
   "id": "77f9b96e",
   "metadata": {},
   "outputs": [],
   "source": []
  }
 ],
 "metadata": {
  "kernelspec": {
   "display_name": "Python 3 (ipykernel)",
   "language": "python",
   "name": "python3"
  },
  "language_info": {
   "codemirror_mode": {
    "name": "ipython",
    "version": 3
   },
   "file_extension": ".py",
   "mimetype": "text/x-python",
   "name": "python",
   "nbconvert_exporter": "python",
   "pygments_lexer": "ipython3",
   "version": "3.11.4"
  }
 },
 "nbformat": 4,
 "nbformat_minor": 5
}
